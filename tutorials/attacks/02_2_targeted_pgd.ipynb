{
 "cells": [
  {
   "cell_type": "markdown",
   "metadata": {},
   "source": [
    "We will be building on top of this notebook (TODO: update link). We will learn how to launch a targeted PGD-based attack on [EfficientNet](https://arxiv.org/pdf/1905.11946) and its [Noisy Student (NST)](https://arxiv.org/abs/1911.04252) variant. It will be clear that under the same hyperparameter configurations, they perform better than other networks like ResNet50. \n",
    "\n",
    "**Note**: EfficientNet models in `tf.keras.applications` take care of normalization as a part of in-model preprocessing. So, we don't need to apply any pixel scaling beforehand. "
   ]
  },
  {
   "cell_type": "markdown",
   "metadata": {},
   "source": [
    "## Initial setup and imports"
   ]
  },
  {
   "cell_type": "code",
   "execution_count": null,
   "metadata": {},
   "outputs": [],
   "source": [
    "from tensorflow.keras.applications.imagenet_utils import preprocess_input\n",
    "from tensorflow.keras.applications.resnet50 import decode_predictions\n",
    "import tensorflow as tf\n",
    "import matplotlib.pyplot as plt\n",
    "import numpy as np\n",
    "import json\n",
    "import cv2\n",
    "\n",
    "print(\"TensorFlow version: \",tf.__version__)"
   ]
  },
  {
   "cell_type": "markdown",
   "metadata": {},
   "source": [
    "We first download a sample image which we will perturb in order to fool our pre-trained image classifier. We also download a dictionary that contains the mapping between the Imagenet dataset class labels and their ids."
   ]
  },
  {
   "cell_type": "code",
   "execution_count": null,
   "metadata": {},
   "outputs": [],
   "source": [
    "!wget -q https://3qeqpr26caki16dnhd19sv6by6v-wpengine.netdna-ssl.com/wp-content/uploads/2017/09/example.jpg\n",
    "!wget -q https://raw.githubusercontent.com/USCDataScience/dl4j-kerasimport-examples/master/dl4j-import-example/data/imagenet_class_index.json"
   ]
  },
  {
   "cell_type": "markdown",
   "metadata": {},
   "source": [
    "## A few early constants"
   ]
  },
  {
   "cell_type": "code",
   "execution_count": null,
   "metadata": {},
   "outputs": [],
   "source": [
    "EPS = 2./255\n",
    "IMAGENET_LABELS = \"imagenet_class_index.json\"\n",
    "\n",
    "with open(IMAGENET_LABELS) as f:\n",
    "    IMAGENET_CLASSES = {int(i):x[1] for i,x in json.load(f).items()}"
   ]
  },
  {
   "cell_type": "markdown",
   "metadata": {},
   "source": [
    "## Utility functions\n",
    "\n",
    "Next we define a couple of utility functions that we will be using throughout the course of this notebook."
   ]
  },
  {
   "cell_type": "code",
   "execution_count": null,
   "metadata": {},
   "outputs": [],
   "source": [
    "# Function to load up an image from a local filepath and\n",
    "# display it\n",
    "def show_image(image_path):\n",
    "    image_pixels = plt.imread(image_path)\n",
    "    plt.imshow(image_pixels)\n",
    "    plt.show()\n",
    "    return image_pixels\n",
    "\n",
    "# Function to preprocess an image for performing inference\n",
    "def preprocess_image(image_pixels):\n",
    "    image_pixels = cv2.resize(image_pixels, (224, 224))\n",
    "    image_pixels = np.expand_dims(image_pixels, axis=0)\n",
    "    return image_pixels\n",
    "\n",
    "# Clipping utility to project delta back to our favorable pixel\n",
    "# range ([0 ,1])\n",
    "def clip_eps(delta_tensor):\n",
    "    return tf.clip_by_value(delta_tensor, \n",
    "                            clip_value_min=-EPS, \n",
    "                            clip_value_max=EPS)\n",
    "\n",
    "# Parse the label\n",
    "def get_label(preds):\n",
    "    print(IMAGENET_CLASSES[preds.argmax()])"
   ]
  },
  {
   "cell_type": "markdown",
   "metadata": {},
   "source": [
    "## Downloading the noisy student training weights and preparing them"
   ]
  },
  {
   "cell_type": "code",
   "execution_count": null,
   "metadata": {},
   "outputs": [],
   "source": [
    "!wget -q https://storage.googleapis.com/cloud-tpu-checkpoints/efficientnet/noisystudent/noisy_student_efficientnet-b0.tar.gz\n",
    "!tar -xf noisy_student_efficientnet-b0.tar.gz\n",
    "\n",
    "!wget -q https://raw.githubusercontent.com/yixingfu/tensorflow/updateweights/tensorflow/python/keras/applications/efficientnet_weight_update_util.py\n",
    "!python efficientnet_weight_update_util.py --model b0 --ckpt \\\n",
    "       noisy_student_efficientnet-b0/model.ckpt --o efficientnetb0.h5"
   ]
  },
  {
   "cell_type": "markdown",
   "metadata": {},
   "source": [
    "## Loading our first image and pre-trained models"
   ]
  },
  {
   "cell_type": "code",
   "execution_count": null,
   "metadata": {},
   "outputs": [],
   "source": [
    "sample_image = show_image(\"example.jpg\")\n",
    "preprocessed_image = preprocess_image(sample_image)\n",
    "enb0 = tf.keras.applications.EfficientNetB0(weights=\"imagenet\")\n",
    "enb0_nst = tf.keras.applications.EfficientNetB0(weights=\"efficientnetb0.h5\")"
   ]
  },
  {
   "cell_type": "markdown",
   "metadata": {},
   "source": [
    "## Running inference with the pre-trained models"
   ]
  },
  {
   "cell_type": "code",
   "execution_count": null,
   "metadata": {},
   "outputs": [],
   "source": [
    "# Run inference EfficientNetB0 (ImageNet)\n",
    "preds = enb0.predict(preprocessed_image)\n",
    "print(\"Predicted:\", decode_predictions(preds, top=3)[0])\n",
    "print(\"Class idx:\", preds.argmax())"
   ]
  },
  {
   "cell_type": "code",
   "execution_count": null,
   "metadata": {},
   "outputs": [],
   "source": [
    "# Run inference EfficientNetB0 (NST)\n",
    "preds = enb0_nst.predict(preprocessed_image)\n",
    "print(\"Predicted:\", decode_predictions(preds, top=3)[0])\n",
    "print(\"Class idx:\", preds.argmax())"
   ]
  },
  {
   "cell_type": "markdown",
   "metadata": {},
   "source": [
    "## Utility functions for adversarial attacks"
   ]
  },
  {
   "cell_type": "code",
   "execution_count": null,
   "metadata": {},
   "outputs": [],
   "source": [
    "def generate_adversaries_targeted(image_tensor, delta, model,\n",
    "    true_index, target_index):\n",
    "    # Loss and optimizer\n",
    "    scc_loss = tf.keras.losses.SparseCategoricalCrossentropy()\n",
    "    optimizer = tf.keras.optimizers.Adam(learning_rate=5e-3)\n",
    "\n",
    "    for t in range(350):\n",
    "        plt.show()\n",
    "        with tf.GradientTape() as tape:\n",
    "            tape.watch(delta)\n",
    "            inp = image_tensor + delta\n",
    "            predictions = model(inp, training=False)\n",
    "            loss = (- scc_loss(tf.convert_to_tensor([true_index]), predictions) + \n",
    "\t                    scc_loss(tf.convert_to_tensor([target_index]), predictions))\n",
    "            if t % 20 == 0:\n",
    "                print(t, loss.numpy())\n",
    "            \n",
    "        # Get the gradients\n",
    "        gradients = tape.gradient(loss, delta)\n",
    "        \n",
    "        # Update the weights\n",
    "        optimizer.apply_gradients([(gradients, delta)])\n",
    "\n",
    "        # Project the delta back (l-infinite norm)\n",
    "        delta.assign_add(clip_eps(delta))\n",
    "\n",
    "    return delta\n",
    "\n",
    "def perturb_image(image_path, true, target, model):\n",
    "    # Load and preprocess image but a but without any `preprocess_input`\n",
    "    sample_image = show_image(image_path)\n",
    "    preprocessed_image = preprocess_image(sample_image)\n",
    "\n",
    "    # Generate predictions before any adversaries\n",
    "    unsafe_preds = model.predict(preprocessed_image)\n",
    "    print(\"Prediction before adv.:\", decode_predictions(unsafe_preds, top=3)[0])\n",
    "\n",
    "    # Initialize the perturbation quantity\n",
    "    image_tensor = tf.constant(preprocessed_image, dtype=tf.float32)\n",
    "    delta = tf.Variable(tf.zeros_like(image_tensor), trainable=True)\n",
    "\n",
    "    # Get the learned delta and display it\n",
    "    delta_tensor = generate_adversaries_targeted(image_tensor, delta, model, true, target)\n",
    "    plt.imshow(50*delta_tensor.numpy().squeeze()+0.5)\n",
    "    plt.show()\n",
    "\n",
    "    # See if the image changes\n",
    "    plt.imshow((image_tensor + delta_tensor).numpy().squeeze()/255)\n",
    "    plt.show()\n",
    "\n",
    "    # Generate prediction\n",
    "    perturbed_image = image_tensor + delta_tensor\n",
    "    preds = model.predict(perturbed_image)\n",
    "    print(\"Prediction after adv.:\", decode_predictions(preds, top=3)[0])"
   ]
  }
 ],
 "metadata": {
  "kernelspec": {
   "display_name": "Python 3",
   "language": "python",
   "name": "python3"
  },
  "language_info": {
   "codemirror_mode": {
    "name": "ipython",
    "version": 3
   },
   "file_extension": ".py",
   "mimetype": "text/x-python",
   "name": "python",
   "nbconvert_exporter": "python",
   "pygments_lexer": "ipython3",
   "version": "3.7.1"
  }
 },
 "nbformat": 4,
 "nbformat_minor": 2
}

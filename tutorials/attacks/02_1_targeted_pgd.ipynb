{
 "cells": [
  {
   "cell_type": "markdown",
   "metadata": {},
   "source": [
    "In the earlier notebooks (`01_1_simple_pgd.ipynb` and `01_2_simple_pgd.ipynb`) we saw how to launch a simple attack. But what if we wanted to extend this idea and wanted to fool our model into predicting a class of our choice. In this notebook, we will learn how to fool a pre-trained ResNet50 model by launching a targeted PGD-based attack (Projected Gradient Descent).   "
   ]
  },
  {
   "cell_type": "markdown",
   "metadata": {},
   "source": [
    "## Initial setup and imports"
   ]
  },
  {
   "cell_type": "code",
   "execution_count": null,
   "metadata": {},
   "outputs": [],
   "source": [
    "from tensorflow.keras.applications.imagenet_utils import preprocess_input\n",
    "from tensorflow.keras.applications.resnet50 import decode_predictions\n",
    "import tensorflow as tf\n",
    "import matplotlib.pyplot as plt\n",
    "import numpy as np\n",
    "import json\n",
    "import cv2\n",
    "\n",
    "print(\"TensorFlow version: \",tf.__version__)"
   ]
  },
  {
   "cell_type": "markdown",
   "metadata": {},
   "source": [
    "We first download a sample image which we will perturb in order to fool our pre-trained image classifier. We also download a dictionary that contains the mapping between the Imagenet dataset class labels and their ids (the ResNet50 model is pre-trained on ImageNet)."
   ]
  },
  {
   "cell_type": "code",
   "execution_count": null,
   "metadata": {},
   "outputs": [],
   "source": [
    "!wget -q https://3qeqpr26caki16dnhd19sv6by6v-wpengine.netdna-ssl.com/wp-content/uploads/2017/09/example.jpg\n",
    "!wget -q https://raw.githubusercontent.com/USCDataScience/dl4j-kerasimport-examples/master/dl4j-import-example/data/imagenet_class_index.json"
   ]
  },
  {
   "cell_type": "markdown",
   "metadata": {},
   "source": [
    "## A few early constants"
   ]
  },
  {
   "cell_type": "code",
   "execution_count": null,
   "metadata": {},
   "outputs": [],
   "source": [
    "EPS = 2./255\n",
    "IMAGENET_LABELS = \"imagenet_class_index.json\"\n",
    "\n",
    "with open(IMAGENET_LABELS) as f:\n",
    "    IMAGENET_CLASSES = {int(i):x[1] for i,x in json.load(f).items()}"
   ]
  },
  {
   "cell_type": "markdown",
   "metadata": {},
   "source": [
    "## Utility functions\n",
    "\n",
    "Next we define a couple of utility functions that we will be using throughout the course of this notebook."
   ]
  },
  {
   "cell_type": "code",
   "execution_count": null,
   "metadata": {},
   "outputs": [],
   "source": [
    "# Function to load up an image from a local filepath and\n",
    "# display it\n",
    "def show_image(image_path):\n",
    "    image_pixels = plt.imread(image_path)\n",
    "    plt.imshow(image_pixels)\n",
    "    plt.show()\n",
    "    return image_pixels\n",
    "\n",
    "# Function to preprocess an image for performing inference\n",
    "def preprocess_image(image_pixels, preprocess=False):\n",
    "    if preprocess:\n",
    "        image_pixels = preprocess_input(image_pixels)\n",
    "    image_pixels = cv2.resize(image_pixels, (224, 224))\n",
    "    image_pixels = np.expand_dims(image_pixels, axis=0)\n",
    "\n",
    "    return image_pixels\n",
    "\n",
    "# Clipping utility to project delta back to our favorable pixel\n",
    "# range ([0 ,1])\n",
    "def clip_eps(delta_tensor):\n",
    "    return tf.clip_by_value(delta_tensor, \n",
    "                            clip_value_min=-EPS, \n",
    "                            clip_value_max=EPS)\n",
    "\n",
    "# Parse the label\n",
    "def get_label(preds):\n",
    "    print(IMAGENET_CLASSES[preds.argmax()])"
   ]
  },
  {
   "cell_type": "markdown",
   "metadata": {},
   "source": [
    "## Loading our first image and pre-trained model"
   ]
  },
  {
   "cell_type": "code",
   "execution_count": null,
   "metadata": {},
   "outputs": [],
   "source": [
    "sample_image = show_image(\"example.jpg\")\n",
    "preprocessed_image = preprocess_image(sample_image, preprocess=True)\n",
    "resnet50 = tf.keras.applications.ResNet50(weights=\"imagenet\")"
   ]
  },
  {
   "cell_type": "markdown",
   "metadata": {},
   "source": [
    "## Running inference with a pre-trained model"
   ]
  },
  {
   "cell_type": "code",
   "execution_count": null,
   "metadata": {},
   "outputs": [],
   "source": [
    "preds = resnet50.predict(preprocessed_image)\n",
    "print(\"Predicted:\", decode_predictions(preds, top=3)[0])\n",
    "print(\"Class idx:\", preds.argmax())"
   ]
  },
  {
   "cell_type": "markdown",
   "metadata": {},
   "source": [
    "Let's now write our utility functions for launching a targeted PGD-based attack."
   ]
  },
  {
   "cell_type": "markdown",
   "metadata": {},
   "source": [
    "## Utility functions for adversarial attacks\n",
    "\n",
    "In this attack we will use PGD to simply maximize the loss for the given (true) class and at the same time _minimize the loss for the target class_ such that the visual semantics of our input image does not get hampered."
   ]
  },
  {
   "cell_type": "code",
   "execution_count": 1,
   "metadata": {},
   "outputs": [],
   "source": [
    "def generate_adversaries_targeted(image_tensor, delta, model,\n",
    "    true_index, target_index):\n",
    "    # Loss and optimizer\n",
    "    scc_loss = tf.keras.losses.SparseCategoricalCrossentropy()\n",
    "    optimizer = tf.keras.optimizers.Adam(learning_rate=5e-3)\n",
    "\n",
    "    for t in range(350):\n",
    "        plt.show()\n",
    "        with tf.GradientTape() as tape:\n",
    "            tape.watch(delta)\n",
    "            inp = preprocess_input(image_tensor + delta)\n",
    "            predictions = model(inp, training=False)\n",
    "            loss = (- scc_loss(tf.convert_to_tensor([true_index]), predictions) + \n",
    "\t                    scc_loss(tf.convert_to_tensor([target_index]), predictions))\n",
    "            if t % 20 == 0:\n",
    "                print(t, loss.numpy())\n",
    "            \n",
    "        # Get the gradients\n",
    "        gradients = tape.gradient(loss, delta)\n",
    "        \n",
    "        # Update the weights\n",
    "        optimizer.apply_gradients([(gradients, delta)])\n",
    "\n",
    "        # Project the delta back (l-infinite norm)\n",
    "        delta.assign_add(clip_eps(delta))\n",
    "\n",
    "    return delta\n",
    "\n",
    "def perturb_image(image_path, true, target, model):\n",
    "    # Load and preprocess image but a but without any `preprocess_input`\n",
    "    sample_image = show_image(image_path)\n",
    "    preprocessed_image = preprocess_image(sample_image)\n",
    "\n",
    "    # Generate predictions before any adversaries\n",
    "    unsafe_preds = model.predict(preprocess_input(preprocessed_image))\n",
    "    print(\"Prediction before adv.:\", decode_predictions(unsafe_preds, top=3)[0])\n",
    "\n",
    "    # Initialize the perturbation quantity\n",
    "    image_tensor = tf.constant(preprocessed_image, dtype=tf.float32)\n",
    "    delta = tf.Variable(tf.zeros_like(image_tensor), trainable=True)\n",
    "\n",
    "    # Get the learned delta and display it\n",
    "    delta_tensor = generate_adversaries_targeted(image_tensor, delta, model, true, target)\n",
    "    plt.imshow(50*delta_tensor.numpy().squeeze()+0.5)\n",
    "    plt.show()\n",
    "\n",
    "    # See if the image changes\n",
    "    plt.imshow((image_tensor + delta_tensor).numpy().squeeze()/255)\n",
    "    plt.show()\n",
    "\n",
    "    # Generate prediction\n",
    "    perturbed_image = preprocess_input((image_tensor + delta_tensor), preprocess=True)\n",
    "    preds = model.predict(perturbed_image)\n",
    "    print(\"Prediction after adv.:\", decode_predictions(preds, top=3)[0])"
   ]
  },
  {
   "cell_type": "markdown",
   "metadata": {},
   "source": [
    "**Note** that the hyperparameters like learning rate, number of epochs were determined after empirical experiments and also by referring to [this tremendous tutorial](https://adversarial-ml-tutorial.org/introduction/). "
   ]
  },
  {
   "cell_type": "markdown",
   "metadata": {},
   "source": [
    "## Launching a targeted attack!\n",
    "\n",
    "Let's try to make our model believe that the `Lakeland_terrier` is actually a hog. Recall that the class index of hog in the ImageNet dataset is 341. "
   ]
  },
  {
   "cell_type": "code",
   "execution_count": null,
   "metadata": {},
   "outputs": [],
   "source": [
    "perturb_image(\"example.jpg\", 189, 341, resnet50)"
   ]
  }
 ],
 "metadata": {
  "kernelspec": {
   "display_name": "Python 3",
   "language": "python",
   "name": "python3"
  },
  "language_info": {
   "codemirror_mode": {
    "name": "ipython",
    "version": 3
   },
   "file_extension": ".py",
   "mimetype": "text/x-python",
   "name": "python",
   "nbconvert_exporter": "python",
   "pygments_lexer": "ipython3",
   "version": "3.7.1"
  }
 },
 "nbformat": 4,
 "nbformat_minor": 2
}
